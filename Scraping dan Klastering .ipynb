{
 "cells": [
  {
   "cell_type": "markdown",
   "metadata": {},
   "source": [
    "# DEKLARASI"
   ]
  },
  {
   "cell_type": "code",
   "execution_count": 1,
   "metadata": {},
   "outputs": [
    {
     "name": "stdout",
     "output_type": "stream",
     "text": [
      "Requirement already satisfied: bs4 in c:\\users\\hp\\anaconda3\\lib\\site-packages (0.0.1)Note: you may need to restart the kernel to use updated packages.\n",
      "\n",
      "Requirement already satisfied: beautifulsoup4 in c:\\users\\hp\\anaconda3\\lib\\site-packages (from bs4) (4.9.3)\n",
      "Requirement already satisfied: soupsieve>1.2; python_version >= \"3.0\" in c:\\users\\hp\\anaconda3\\lib\\site-packages (from beautifulsoup4->bs4) (2.0.1)\n"
     ]
    }
   ],
   "source": [
    "pip install bs4"
   ]
  },
  {
   "cell_type": "code",
   "execution_count": 2,
   "metadata": {},
   "outputs": [
    {
     "name": "stdout",
     "output_type": "stream",
     "text": [
      "Requirement already satisfied: wordcloud in c:\\users\\hp\\anaconda3\\lib\\site-packages (1.8.1)Note: you may need to restart the kernel to use updated packages.\n",
      "\n",
      "Requirement already satisfied: numpy>=1.6.1 in c:\\users\\hp\\anaconda3\\lib\\site-packages (from wordcloud) (1.19.2)\n",
      "Requirement already satisfied: matplotlib in c:\\users\\hp\\anaconda3\\lib\\site-packages (from wordcloud) (3.3.2)\n",
      "Requirement already satisfied: pillow in c:\\users\\hp\\anaconda3\\lib\\site-packages (from wordcloud) (8.0.1)\n",
      "Requirement already satisfied: pyparsing!=2.0.4,!=2.1.2,!=2.1.6,>=2.0.3 in c:\\users\\hp\\anaconda3\\lib\\site-packages (from matplotlib->wordcloud) (2.4.7)\n",
      "Requirement already satisfied: certifi>=2020.06.20 in c:\\users\\hp\\anaconda3\\lib\\site-packages (from matplotlib->wordcloud) (2020.6.20)\n",
      "Requirement already satisfied: cycler>=0.10 in c:\\users\\hp\\anaconda3\\lib\\site-packages (from matplotlib->wordcloud) (0.10.0)\n",
      "Requirement already satisfied: kiwisolver>=1.0.1 in c:\\users\\hp\\anaconda3\\lib\\site-packages (from matplotlib->wordcloud) (1.3.0)\n",
      "Requirement already satisfied: python-dateutil>=2.1 in c:\\users\\hp\\anaconda3\\lib\\site-packages (from matplotlib->wordcloud) (2.8.1)\n",
      "Requirement already satisfied: six in c:\\users\\hp\\anaconda3\\lib\\site-packages (from cycler>=0.10->matplotlib->wordcloud) (1.15.0)\n"
     ]
    }
   ],
   "source": [
    "pip install wordcloud"
   ]
  },
  {
   "cell_type": "code",
   "execution_count": 3,
   "metadata": {},
   "outputs": [
    {
     "name": "stdout",
     "output_type": "stream",
     "text": [
      "Requirement already satisfied: Sastrawi in c:\\users\\hp\\anaconda3\\lib\\site-packages (1.0.1)\n",
      "Note: you may need to restart the kernel to use updated packages.\n"
     ]
    }
   ],
   "source": [
    "pip install Sastrawi"
   ]
  },
  {
   "cell_type": "code",
   "execution_count": 4,
   "metadata": {},
   "outputs": [
    {
     "name": "stdout",
     "output_type": "stream",
     "text": [
      "['https://www.vice.com/id/article/wx884z/playlist-lagu-lagu-bikin-rileks-supaya-tak-terpengaruh-berita-politik-dan-hasil-pemilu', 'https://www.vice.com/id/article/pkdpqb/mahasiswa-unnes-diskors-6-bulan-karena-laporkan-rektor-ke-kpk', 'https://www.vice.com/id/article/jgebe7/pasien-terduga-virus-corona-pertama-meninggal-di-semarang-masyarakat-curiga-kemenkes-tak-jeli-deteksi-penularan', 'https://www.vice.com/id/article/m7jabx/penjelasan-ilmiah-kesurupan-disertasi-dr-siswanto-universitas-katolik-soegijapranata-semarang', 'https://www.vice.com/id/article/akdedg/gejala-stres-akibat-pemerintah-dan-berita-politik-di-indonesia', 'https://www.vice.com/id/article/5dmeya/tak-apa-apa-kurangi-lihat-berita-pandemi-kalau-memang-itu-bikin-kalian-stres', 'https://www.vice.com/id/article/n7w4j8/tak-cukup-bukti-telah-nikahi-anak-usia-7-tahun-syekh-puji-dibebaskan-polisi', 'https://www.vice.com/id/article/7kzvzq/kejahatan-absurd-kota-semarang-suami-curi-mobil-dari-restoran-tinggalkan-istri-di-tkp', 'https://www.vice.com/id/article/5dz8q8/tren-balap-lari-liar-anak-muda-dibubarkan-polisi-ciledug-semarang-depok', 'https://www.vice.com/id/article/wxej84/perempuan-difabel-di-semarang-nenek-27-tahun-tidak-mandi-diselamatkan-relawan-act', 'https://www.vice.com/id/article/bjb3p8/geliat-warga-gigih-menolak-penutupan-lokalisasi-sunan-kuning-semarang', 'https://www.vice.com/id/article/ezxk4m/terlalu-banyak-membaca-berita-sedih-bisa-memicu-kematian', 'https://www.vice.com/id/article/7xmave/orang-orang-maluku-dan-keberanian-menjalani-profesi-penagih-utang', 'https://www.vice.com/id/article/qv9mwp/begini-rasanya-disandera-gerombolan-penculik-berperilaku-terpuji', 'https://www.vice.com/id/article/vbk9yj/bagaimana-penyandang-tunanetra-merasakan-daya-tarik-seksual-pasangannya', 'https://www.vice.com/id/article/d35abx/trik-trik-jitu-menjawab-pertanyaan-soal-gaji-saat-wawancara-kerja', 'https://www.vice.com/id/article/qvng8b/agama-itu-kanibal-dan-tuhan-bisa-berganti-ganti-dalam-film-seri-asli-india-sacred-games']\n"
     ]
    }
   ],
   "source": [
    "from bs4 import BeautifulSoup\n",
    "from Sastrawi.StopWordRemover.StopWordRemoverFactory import StopWordRemoverFactory\n",
    "import requests\n",
    "page = requests.get(\"https://www.vice.com/id/search?q=berita%20semarang\")\n",
    "soup = BeautifulSoup(page.content, 'html.parser')\n",
    "news = soup.find_all('a', class_='vice-card-hed__link')\n",
    "pagelinks = []\n",
    "authorname = []\n",
    "title = []\n",
    "thearticle = []\n",
    "data = []\n",
    "\n",
    "factory = StopWordRemoverFactory()\n",
    "stopword = factory.create_stop_word_remover()\n",
    "\n",
    "for n in news:\n",
    "#     url = n.find_all('a')[0]   \n",
    "    pagelinks.append(n.get('href'))\n",
    "    \n",
    "for link in pagelinks:\n",
    "    # store the text for each article\n",
    "    paragraphtext = []    \n",
    "    # get url\n",
    "    url = link\n",
    "    # get page text\n",
    "    page = requests.get(url)\n",
    "    # parse with BFS\n",
    "    soup = BeautifulSoup(page.text, 'html.parser')    \n",
    "    # get author name, if there's a named author\n",
    "    abody = soup.find('div',class_='contributor__meta').find('a')\n",
    "    aname = abody.get_text() \n",
    "\n",
    "\n",
    "    # get article title\n",
    "    atitle = soup.find(class_=\"smart-header__hed smart-header__hed--size-2\")\n",
    "    thetitle = atitle.get_text() \n",
    "\n",
    "    # get main article page\n",
    "    articlebody = soup.find(class_='article__body-components')\n",
    "    # get text\n",
    "    articletext = soup.find_all('p')[8:]\n",
    "    # print text\n",
    "    allArticle = \"\";\n",
    "    for paragraph in articletext[:-1]:\n",
    "        # get the text only\n",
    "        text = paragraph.get_text()\n",
    "        allArticle += text\n",
    "    allArticle = stopword.remove(allArticle)\n",
    "\n",
    "    data.append([thetitle,aname,link,allArticle])\n",
    "#         # combine all paragraphs into an article\n",
    "#         thearticle.append(paragraphtext)\n",
    "#         authorname.append(aname)\n",
    "#         title.append(thetitle)\n",
    "    \n",
    "print(pagelinks)"
   ]
  },
  {
   "cell_type": "markdown",
   "metadata": {},
   "source": [
    "# DATAFRAME PADA PANDAS"
   ]
  },
  {
   "cell_type": "code",
   "execution_count": 5,
   "metadata": {
    "scrolled": true
   },
   "outputs": [
    {
     "data": {
      "text/html": [
       "<div>\n",
       "<style scoped>\n",
       "    .dataframe tbody tr th:only-of-type {\n",
       "        vertical-align: middle;\n",
       "    }\n",
       "\n",
       "    .dataframe tbody tr th {\n",
       "        vertical-align: top;\n",
       "    }\n",
       "\n",
       "    .dataframe thead th {\n",
       "        text-align: right;\n",
       "    }\n",
       "</style>\n",
       "<table border=\"1\" class=\"dataframe\">\n",
       "  <thead>\n",
       "    <tr style=\"text-align: right;\">\n",
       "      <th></th>\n",
       "      <th>title</th>\n",
       "      <th>author</th>\n",
       "      <th>pagelink</th>\n",
       "      <th>article</th>\n",
       "    </tr>\n",
       "  </thead>\n",
       "  <tbody>\n",
       "    <tr>\n",
       "      <th>0</th>\n",
       "      <td>Dengarkan Playlist Ini Agar Kalian Rileks Mere...</td>\n",
       "      <td>Drew Schwartz</td>\n",
       "      <td>https://www.vice.com/id/article/wx884z/playlis...</td>\n",
       "      <td>Jika kalian lepas sejenak berbagai kecemasan, ...</td>\n",
       "    </tr>\n",
       "    <tr>\n",
       "      <th>1</th>\n",
       "      <td>Mahasiswa Unnes Diskors 6 Bulan Karena Laporka...</td>\n",
       "      <td>Ikhwan Hastanto</td>\n",
       "      <td>https://www.vice.com/id/article/pkdpqb/mahasis...</td>\n",
       "      <td>KPK menyatakan bukti permulaan dikirim Frans c...</td>\n",
       "    </tr>\n",
       "    <tr>\n",
       "      <th>2</th>\n",
       "      <td>Pasien Terduga Corona Pertama Meninggal di Ind...</td>\n",
       "      <td>Ikhwan Hastanto</td>\n",
       "      <td>https://www.vice.com/id/article/jgebe7/pasien-...</td>\n",
       "      <td>Karena itu, Arab Saudi enggak mau ambil pusing...</td>\n",
       "    </tr>\n",
       "    <tr>\n",
       "      <th>3</th>\n",
       "      <td>Kajian Ilmiah Kesurupan Antar Dosen Unika Sema...</td>\n",
       "      <td>Ikhwan Hastanto</td>\n",
       "      <td>https://www.vice.com/id/article/m7jabx/penjela...</td>\n",
       "      <td>Secara garis besar, Silas menjelaskan kesurupa...</td>\n",
       "    </tr>\n",
       "    <tr>\n",
       "      <th>4</th>\n",
       "      <td>Stres Akibat Kebijakan Pemerintah Indonesia Ad...</td>\n",
       "      <td>Rosa Folia</td>\n",
       "      <td>https://www.vice.com/id/article/akdedg/gejala-...</td>\n",
       "      <td>Stres dipicu situasi politik kebijakan pemerin...</td>\n",
       "    </tr>\n",
       "  </tbody>\n",
       "</table>\n",
       "</div>"
      ],
      "text/plain": [
       "                                               title           author  \\\n",
       "0  Dengarkan Playlist Ini Agar Kalian Rileks Mere...    Drew Schwartz   \n",
       "1  Mahasiswa Unnes Diskors 6 Bulan Karena Laporka...  Ikhwan Hastanto   \n",
       "2  Pasien Terduga Corona Pertama Meninggal di Ind...  Ikhwan Hastanto   \n",
       "3  Kajian Ilmiah Kesurupan Antar Dosen Unika Sema...  Ikhwan Hastanto   \n",
       "4  Stres Akibat Kebijakan Pemerintah Indonesia Ad...       Rosa Folia   \n",
       "\n",
       "                                            pagelink  \\\n",
       "0  https://www.vice.com/id/article/wx884z/playlis...   \n",
       "1  https://www.vice.com/id/article/pkdpqb/mahasis...   \n",
       "2  https://www.vice.com/id/article/jgebe7/pasien-...   \n",
       "3  https://www.vice.com/id/article/m7jabx/penjela...   \n",
       "4  https://www.vice.com/id/article/akdedg/gejala-...   \n",
       "\n",
       "                                             article  \n",
       "0  Jika kalian lepas sejenak berbagai kecemasan, ...  \n",
       "1  KPK menyatakan bukti permulaan dikirim Frans c...  \n",
       "2  Karena itu, Arab Saudi enggak mau ambil pusing...  \n",
       "3  Secara garis besar, Silas menjelaskan kesurupa...  \n",
       "4  Stres dipicu situasi politik kebijakan pemerin...  "
      ]
     },
     "execution_count": 5,
     "metadata": {},
     "output_type": "execute_result"
    }
   ],
   "source": [
    "import pandas as pd\n",
    "import datetime\n",
    "import numpy as np\n",
    "\n",
    "kolom = ['title','author','pagelink','article']\n",
    "datapd = pd.DataFrame(data,columns=kolom)\n",
    "datapd.head()\n",
    "# datapd.info()"
   ]
  },
  {
   "cell_type": "markdown",
   "metadata": {},
   "source": [
    "# DEKLRASAI KMEANS menggunakan SKLEARN"
   ]
  },
  {
   "cell_type": "code",
   "execution_count": 6,
   "metadata": {},
   "outputs": [],
   "source": [
    "# for performing text clustering    \n",
    "from sklearn.feature_extraction.text import TfidfVectorizer\n",
    "from sklearn.cluster import KMeans\n",
    "from sklearn.metrics import adjusted_rand_score\n",
    "\n",
    "# for visualization\n",
    "import matplotlib.pyplot as plt\n",
    "import seaborn as sns\n",
    "plt.style.use('fivethirtyeight')"
   ]
  },
  {
   "cell_type": "markdown",
   "metadata": {},
   "source": [
    "# Most Frequently Occuring Words"
   ]
  },
  {
   "cell_type": "code",
   "execution_count": 7,
   "metadata": {},
   "outputs": [
    {
     "data": {
      "text/plain": [
       "Text(0.5, 1.0, 'Most Frequently Occuring Words - Top 20')"
      ]
     },
     "execution_count": 7,
     "metadata": {},
     "output_type": "execute_result"
    },
    {
     "data": {
      "image/png": "[encoded data removed]",
      "text/plain": [
       "<Figure size 1080x504 with 1 Axes>"
      ]
     },
     "metadata": {},
     "output_type": "display_data"
    }
   ],
   "source": [
    "from sklearn.feature_extraction.text import CountVectorizer\n",
    "\n",
    "\n",
    "cv = CountVectorizer()\n",
    "words = cv.fit_transform(datapd['article'])\n",
    "sum_words = words.sum(axis=0)\n",
    "\n",
    "\n",
    "words_freq = [(word, sum_words[0, idx]) for word, idx in cv.vocabulary_.items()]\n",
    "words_freq = sorted(words_freq, key = lambda x: x[1], reverse = True)\n",
    "frequency = pd.DataFrame(words_freq, columns=['word', 'freq'])\n",
    "\n",
    "color = plt.cm.twilight(np.linspace(0, 1, 20))\n",
    "frequency.head(20).plot(x='word', y='freq', kind='bar', figsize=(15, 7), color = color)\n",
    "plt.title(\"Most Frequently Occuring Words - Top 20\")"
   ]
  },
  {
   "cell_type": "code",
   "execution_count": 8,
   "metadata": {},
   "outputs": [
    {
     "data": {
      "text/plain": [
       "KMeans(max_iter=200, n_clusters=2, n_init=1)"
      ]
     },
     "execution_count": 8,
     "metadata": {},
     "output_type": "execute_result"
    }
   ],
   "source": [
    "true_k = 2\n",
    "model = KMeans(n_clusters=true_k, init='k-means++', max_iter=200, n_init=1)\n",
    "model.fit(words)"
   ]
  },
  {
   "cell_type": "code",
   "execution_count": 9,
   "metadata": {},
   "outputs": [
    {
     "name": "stdout",
     "output_type": "stream",
     "text": [
      "Top terms per cluster:\n",
      "Cluster 0:\n",
      " kamu\n",
      " gaji\n",
      " kalau\n",
      " kisaran\n",
      " lebih\n",
      " kerja\n",
      " perusahaan\n",
      " perekrut\n",
      " wawancara\n",
      " mempertimbangkan\n",
      "Cluster 1:\n",
      " saya\n",
      " orang\n",
      " berita\n",
      " lebih\n",
      " ini\n",
      " mereka\n",
      " tahun\n",
      " utang\n",
      " pemerintah\n",
      " kata\n",
      "\n",
      "\n",
      "Prediction\n",
      "Cluster number : [1]\n",
      "Cluster number : [1]\n"
     ]
    }
   ],
   "source": [
    "print(\"Top terms per cluster:\")\n",
    "\n",
    "order_centroids = model.cluster_centers_.argsort()[:, ::-1]\n",
    "terms = cv.get_feature_names()\n",
    "\n",
    "for i in range(true_k):\n",
    "    print(\"Cluster %d:\" % i),\n",
    "    for ind in order_centroids[i, :10]:\n",
    "        print(' %s' % terms[ind]),\n",
    "    print\n",
    "\n",
    "print(\"\\n\")\n",
    "print(\"Prediction\")\n",
    "Y = cv.transform([\"musik\"])\n",
    "prediction = model.predict(Y)\n",
    "print(\"Cluster number :\", prediction)\n",
    "Y = cv.transform([\"pilkada\"])\n",
    "prediction = model.predict(Y)\n",
    "print(\"Cluster number :\", prediction)"
   ]
  },
  {
   "cell_type": "code",
   "execution_count": null,
   "metadata": {},
   "outputs": [],
   "source": []
  }
 ],
 "metadata": {
  "kernelspec": {
   "display_name": "Python 3",
   "language": "python",
   "name": "python3"
  },
  "language_info": {
   "codemirror_mode": {
    "name": "ipython",
    "version": 3
   },
   "file_extension": ".py",
   "mimetype": "text/x-python",
   "name": "python",
   "nbconvert_exporter": "python",
   "pygments_lexer": "ipython3",
   "version": "3.8.5"
  }
 },
 "nbformat": 4,
 "nbformat_minor": 4
}
